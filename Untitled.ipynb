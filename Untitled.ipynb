{
 "cells": [
  {
   "cell_type": "code",
   "execution_count": 47,
   "id": "0e4f4690",
   "metadata": {
    "scrolled": true
   },
   "outputs": [
    {
     "name": "stderr",
     "output_type": "stream",
     "text": [
      "  % Total    % Received % Xferd  Average Speed   Time    Time     Time  Current\n",
      "                                 Dload  Upload   Total   Spent    Left  Speed\n",
      "\n",
      "  0     0    0     0    0     0      0      0 --:--:-- --:--:-- --:--:--     0\n",
      "  0     0    0     0    0     0      0      0 --:--:-- --:--:-- --:--:--     0\n",
      "100 89129  100 89129    0     0   172k      0 --:--:-- --:--:-- --:--:--  173k\n"
     ]
    }
   ],
   "source": [
    "!curl -o words.txt https://raw.githubusercontent.com/tabatkins/wordle-list/main/words "
   ]
  },
  {
   "cell_type": "code",
   "execution_count": 111,
   "id": "3846aad6",
   "metadata": {},
   "outputs": [
    {
     "name": "stderr",
     "output_type": "stream",
     "text": [
      "  % Total    % Received % Xferd  Average Speed   Time    Time     Time  Current\n",
      "                                 Dload  Upload   Total   Spent    Left  Speed\n",
      "\n",
      "  0     0    0     0    0     0      0      0 --:--:-- --:--:-- --:--:--     0\n",
      "100 34542  100 34542    0     0  57921      0 --:--:-- --:--:-- --:--:-- 58249\n"
     ]
    }
   ],
   "source": [
    "!curl -o words.txt https://raw.githubusercontent.com/charlesreid1/five-letter-words/master/sgb-words.txt"
   ]
  },
  {
   "cell_type": "code",
   "execution_count": 57,
   "id": "89c09274",
   "metadata": {},
   "outputs": [
    {
     "name": "stdout",
     "output_type": "stream",
     "text": [
      "Collecting emoji\n",
      "  Downloading emoji-2.10.1-py2.py3-none-any.whl (421 kB)\n",
      "     ------------------------------------ 421.5/421.5 kB 598.7 kB/s eta 0:00:00\n",
      "Installing collected packages: emoji\n",
      "Successfully installed emoji-2.10.1\n"
     ]
    }
   ],
   "source": [
    "!pip install emoji"
   ]
  },
  {
   "cell_type": "code",
   "execution_count": 97,
   "id": "6e9c3f4b",
   "metadata": {},
   "outputs": [],
   "source": [
    "import random\n",
    "import emoji\n",
    "import string"
   ]
  },
  {
   "cell_type": "code",
   "execution_count": 98,
   "id": "67d6352c",
   "metadata": {},
   "outputs": [],
   "source": [
    "words_file = open('words.txt').read().splitlines()"
   ]
  },
  {
   "cell_type": "code",
   "execution_count": 130,
   "id": "4e154ddc",
   "metadata": {},
   "outputs": [],
   "source": [
    "b = [\n",
    "    emoji.emojize('⬛'),\n",
    "    emoji.emojize('🟨'),\n",
    "    emoji.emojize('🟩')\n",
    "]"
   ]
  },
  {
   "cell_type": "code",
   "execution_count": 158,
   "id": "355d7388",
   "metadata": {},
   "outputs": [],
   "source": [
    "def findOccurrences(s, ch):\n",
    "    return [i for i, letter in enumerate(s) if letter == ch]\n",
    "\n",
    "class Wordle:\n",
    "    def __init__(this):\n",
    "        this.reset()\n",
    "    \n",
    "    def getWord(this):\n",
    "        return this._word\n",
    "    \n",
    "    def guessWord(this, guess, p=False):\n",
    "        if this.gridIndex >= this.max_iterations:\n",
    "            this.done = True\n",
    "            return False\n",
    "        if guess == this._word:\n",
    "            this.done = True\n",
    "            return True\n",
    "#         if guess not in words_file:\n",
    "#             return None\n",
    "        if len(guess) != this.wordLen:\n",
    "            return None\n",
    "        \n",
    "        currentGrid = this.emptyGrid.copy()\n",
    "        # mark correct words\n",
    "        for i in range(this.wordLen):\n",
    "            if guess[i] == this._word[i]:\n",
    "                currentGrid[i] = 2\n",
    "        \n",
    "        for i in range(this.wordLen):\n",
    "            # in word and not been marked green\n",
    "            # and make sure that it's not already been marked\n",
    "            if guess[i] in this._word:\n",
    "                if currentGrid[i] != 2:\n",
    "                    # iterate through each occurrence of the letter in the word\n",
    "                    markable = True\n",
    "                    markableSpots = []\n",
    "                    for j in findOccurrences(this._word, guess[i]):\n",
    "                        # check if it's already been marked\n",
    "                        # if it hasn't, mark it with yellow\n",
    "                        if currentGrid[j] != 2:\n",
    "                            currentGrid[i] = 1\n",
    "            else:\n",
    "                if guess[i] in this.letters:\n",
    "                    this.letters.pop(this.letters.index(guess[i]))\n",
    "        \n",
    "        for i in range(this.wordLen):\n",
    "            if guess[i] in this.letters and currentGrid[i] == 0:\n",
    "                this.letters.pop(this.letters.index(guess[i]))\n",
    "        \n",
    "        this.gridIndex += 1\n",
    "        this.grid[this.gridIndex] = currentGrid\n",
    "        if p:\n",
    "            game.printGrid()\n",
    "        return False\n",
    "    \n",
    "    def printGrid(this):\n",
    "        for box in this.grid[this.gridIndex]:\n",
    "            if box != -1:\n",
    "                print(b[box], end='')\n",
    "                \n",
    "    def getReward(this):\n",
    "        return 1 / sum(currentGrid[this.gridIndex])\n",
    "#         return 1 / (this.gridIndex + 1)\n",
    "\n",
    "    def reset(this):\n",
    "#         idk if this is correct at all\n",
    "        this._word = random.choice(words_file)\n",
    "        this.wordLen = len(this._word)\n",
    "        this.emptyGrid = [ 0 ] * len(this._word)\n",
    "        this.gridIndex = 0\n",
    "        this.max_iterations = MAX_GUESS\n",
    "        this.grid = [ this.emptyGrid.copy() ] * this.max_iterations\n",
    "        this.letters = list(string.ascii_lowercase)\n",
    "        this.done = False\n",
    "        \n",
    "        return (this.emptyGrid, {})\n",
    "    "
   ]
  },
  {
   "cell_type": "code",
   "execution_count": null,
   "id": "d1ce2e98",
   "metadata": {},
   "outputs": [],
   "source": []
  },
  {
   "cell_type": "code",
   "execution_count": 159,
   "id": "4a0ef0b3",
   "metadata": {
    "scrolled": true
   },
   "outputs": [
    {
     "name": "stdout",
     "output_type": "stream",
     "text": [
      "\n"
     ]
    }
   ],
   "source": [
    "game = Wordle()\n",
    "done = False\n",
    "while not done:\n",
    "    i = input()\n",
    "    if i == \"\":\n",
    "        break\n",
    "    done = game.guessWord(i, p=True)\n",
    "    print(game.letters)\n",
    "if done:\n",
    "    print(\"You got the word!\")\n",
    "    print(currentGrid[this.gridIndex])"
   ]
  },
  {
   "cell_type": "code",
   "execution_count": 160,
   "id": "6602cab1",
   "metadata": {},
   "outputs": [],
   "source": [
    "import math\n",
    "import random\n",
    "import matplotlib\n",
    "import matplotlib.pyplot as plt\n",
    "from collections import namedtuple, deque\n",
    "from itertools import count\n",
    "\n",
    "import torch\n",
    "import torch.nn as nn\n",
    "import torch.optim as optim\n",
    "import torch.nn.functional as F"
   ]
  },
  {
   "cell_type": "code",
   "execution_count": 172,
   "id": "f4543cbd",
   "metadata": {},
   "outputs": [
    {
     "name": "stdout",
     "output_type": "stream",
     "text": [
      "[('qderw', ['qderw', '*d**w', '****w', 'qderw', '**e*w', '*de*w', 'qde*w', 'q*erw', 'qd*rw', '*d*r*']), ('yehmo', ['*ehm*', '*e*m*', '***m*', 'yehmo', 'yehm*', 'yehmo', 'y****', '*e*mo', '*ehmo', 'yehm*']), ('igaex', ['***ex', 'i**e*', 'igaex', 'igaex', '*gae*', '*ga**', '*ga**', 'igaex', 'i*ae*', 'igaex']), ('vrqwk', ['****k', '**q**', 'vr**k', 'vrqwk', 'vrqwk', '****k', '*rq**', 'v****', 'v*qwk', '****k']), ('ztpqg', ['*tpqg', 'z****', 'ztpqg', 'z****', 'ztpqg', 'z*p*g', 'zt*q*', '*t*q*', '*tpqg', '**pqg'])]\n"
     ]
    }
   ],
   "source": [
    "import random\n",
    "import string\n",
    "import torch\n",
    "import torch.nn as nn\n",
    "import torch.optim as optim\n",
    "\n",
    "# Define constants\n",
    "WORD_LENGTH = 5\n",
    "ALPHABET_SIZE = 26\n",
    "\n",
    "# Generate random words\n",
    "def generate_random_word():\n",
    "    return ''.join(random.choices(string.ascii_lowercase, k=WORD_LENGTH))\n",
    "\n",
    "# Generate random guesses\n",
    "def generate_random_guess(word):\n",
    "    guess = ['*' for _ in range(WORD_LENGTH)]\n",
    "    correct_indices = random.sample(range(WORD_LENGTH), random.randint(1, WORD_LENGTH))\n",
    "    for idx in correct_indices:\n",
    "        guess[idx] = word[idx]\n",
    "    return ''.join(guess)\n",
    "\n",
    "# Generate a dataset of Wordle games\n",
    "def generate_dataset(num_samples):\n",
    "    dataset = []\n",
    "    for _ in range(num_samples):\n",
    "        word = generate_random_word()\n",
    "        guesses = [generate_random_guess(word) for _ in range(10)]  # Generate 10 random guesses\n",
    "        dataset.append((word, guesses))\n",
    "    return dataset\n",
    "\n",
    "# Example dataset\n",
    "dataset = generate_dataset(100)\n",
    "print(dataset[:5])  # Print the first 5 samples"
   ]
  },
  {
   "cell_type": "code",
   "execution_count": 161,
   "id": "945c435d",
   "metadata": {},
   "outputs": [],
   "source": [
    "device = torch.device(\"cuda\" if torch.cuda.is_available() else \"cpu\")"
   ]
  },
  {
   "cell_type": "code",
   "execution_count": 162,
   "id": "2081d7fa",
   "metadata": {},
   "outputs": [],
   "source": [
    "Transition = namedtuple('Transition', \n",
    "                        ('state', 'action', 'next_state', 'reward'))"
   ]
  },
  {
   "cell_type": "code",
   "execution_count": 163,
   "id": "dd992933",
   "metadata": {},
   "outputs": [],
   "source": [
    "class ReplayMemory(object):\n",
    "    def __init__(self, capacity):\n",
    "        self.memory = deque([], maxlen=capacity)\n",
    "    def push(self, *args):\n",
    "        self.memory.append(Transition(*args))\n",
    "    def sample(self, batch_size):\n",
    "        return random.sample(self.memory, batch_size)\n",
    "    def __len__(self):\n",
    "        return len(self.memory)\n"
   ]
  },
  {
   "cell_type": "code",
   "execution_count": 164,
   "id": "f6a36b40",
   "metadata": {},
   "outputs": [],
   "source": [
    "class DQN(nn.Module):\n",
    "    def __init__(self, n_observations, n_actions):\n",
    "        super(DQN, self).__init__()\n",
    "        self.layer1 = nn.Linear(n_observations, 128)\n",
    "        self.layer2 = nn.Linear(128, 128)\n",
    "        self.layer3 = nn.Linear(128, n_actions)\n",
    "    def forward(self, x):\n",
    "        x = F.relu(self.layer1(x))\n",
    "        x = F.relu(self.layer2(x))\n",
    "        return self.layer3(x)"
   ]
  },
  {
   "cell_type": "code",
   "execution_count": 165,
   "id": "f0917209",
   "metadata": {},
   "outputs": [],
   "source": [
    "BATCH_SIZE = 128\n",
    "GAMMA = 0.99\n",
    "EPS_START = 0.9\n",
    "EPS_END = 0.05\n",
    "EPS_DECAY = 1000\n",
    "TAU = 0.005\n",
    "LR = 1e-4"
   ]
  },
  {
   "cell_type": "code",
   "execution_count": 166,
   "id": "961792a7",
   "metadata": {},
   "outputs": [],
   "source": [
    "MAX_GUESS = 6\n",
    "WORD_SIZE = 5"
   ]
  },
  {
   "cell_type": "code",
   "execution_count": 171,
   "id": "5e9c768a",
   "metadata": {},
   "outputs": [],
   "source": [
    "env = Wordle()\n",
    "n_actions = WORD_SIZE * MAX_GUESS\n",
    "state, info = env.reset()\n",
    "n_observations = len(state)\n",
    "\n",
    "policy_net = DQN(n_observations, n_actions).to(device)\n",
    "target_net = DQN(n_observations, n_actions).to(device)\n",
    "\n",
    "target_net.load_state_dict(policy_net.state_dict())\n",
    "\n",
    "optimizer = optim.AdamW(policy_net.parameters(), lr=LR, amsgrad=True)\n",
    "memory = ReplayMemory(10000)"
   ]
  },
  {
   "cell_type": "code",
   "execution_count": null,
   "id": "61239fd8",
   "metadata": {},
   "outputs": [],
   "source": [
    "steps_done = 0\n",
    "def select_action(state):\n",
    "    global steps_done\n",
    "    sample = random.random()\n",
    "    eps_threshold = EPS_END + (EPS_START - EPS_END) * \\\n",
    "        math.exp(-1. * steps_done / EPS_DECAY)\n",
    "    steps_done += 1\n",
    "    if sample > eps_threshold:\n",
    "        with torch.no_grad():\n",
    "            return poly_net(state).max(1).indicies.view(1, 1)\n",
    "    else:\n",
    "        return torch.tensor([])"
   ]
  }
 ],
 "metadata": {
  "kernelspec": {
   "display_name": "Python 3 (ipykernel)",
   "language": "python",
   "name": "python3"
  },
  "language_info": {
   "codemirror_mode": {
    "name": "ipython",
    "version": 3
   },
   "file_extension": ".py",
   "mimetype": "text/x-python",
   "name": "python",
   "nbconvert_exporter": "python",
   "pygments_lexer": "ipython3",
   "version": "3.10.9"
  }
 },
 "nbformat": 4,
 "nbformat_minor": 5
}
