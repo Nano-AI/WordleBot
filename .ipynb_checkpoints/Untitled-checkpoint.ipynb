{
 "cells": [
  {
   "cell_type": "code",
   "execution_count": 47,
   "id": "ee3a37d5",
   "metadata": {},
   "outputs": [
    {
     "name": "stderr",
     "output_type": "stream",
     "text": [
      "  % Total    % Received % Xferd  Average Speed   Time    Time     Time  Current\n",
      "                                 Dload  Upload   Total   Spent    Left  Speed\n",
      "\n",
      "  0     0    0     0    0     0      0      0 --:--:-- --:--:-- --:--:--     0\n",
      "  0     0    0     0    0     0      0      0 --:--:-- --:--:-- --:--:--     0\n",
      "100 89129  100 89129    0     0   172k      0 --:--:-- --:--:-- --:--:--  173k\n"
     ]
    }
   ],
   "source": [
    "!curl -o words.txt https://raw.githubusercontent.com/tabatkins/wordle-list/main/words "
   ]
  },
  {
   "cell_type": "code",
   "execution_count": 48,
   "id": "d9e9e36b",
   "metadata": {},
   "outputs": [],
   "source": [
    "import random"
   ]
  },
  {
   "cell_type": "code",
   "execution_count": 49,
   "id": "e138a0be",
   "metadata": {},
   "outputs": [],
   "source": [
    "words_file = open('words.txt').read().splitlines()"
   ]
  },
  {
   "cell_type": "code",
   "execution_count": 50,
   "id": "c2eaf3b6",
   "metadata": {},
   "outputs": [],
   "source": [
    "class Wordle:\n",
    "    def __init__(this):\n",
    "        this._word = random.choice(words_file)\n",
    "        this.wordLen = len(this._word)\n",
    "        # -1 = empty\n",
    "        # 0 = gray\n",
    "        # 1 = yellow\n",
    "        # 2 = green\n",
    "        this.emptyGrid = [ -1 ] * len(this._word)\n",
    "        this.gridIndex = 0\n",
    "        this.grid = [ this.emptyGrid ]\n",
    "    def getWord(this):\n",
    "        return this._word\n",
    "    \n",
    "    def guessWord(this, guess):\n",
    "        if guess not in words_file:\n",
    "            print(guess + \" is not a valid word\")\n",
    "            return None\n",
    "        if len(guess) != this.wordLen:\n",
    "            print(\"Guess is not the right size!\")\n",
    "            return None\n",
    "        \n",
    "        for i in range(this.wordLen):\n",
    "            if guess[i] in this._word and this.grid[this.gridIndex][i] != 2:\n",
    "                this.grid[this.gridIndex][i] = 1\n",
    "            if guess[i] == this._word[i]:\n",
    "                this.grid[this.gridIndex][i] = 2\n",
    "        this.gridIndex += 1\n",
    "        this.grid.append(this.emptyGrid)\n",
    "    "
   ]
  },
  {
   "cell_type": "code",
   "execution_count": null,
   "id": "c55689c8",
   "metadata": {
    "scrolled": true
   },
   "outputs": [
    {
     "name": "stdout",
     "output_type": "stream",
     "text": [
      "carve\n",
      "[-1, -1, -1, -1, -1]\n",
      "asdjfk\n",
      "asdjfk False\n",
      "asdjfk is not a valid word\n",
      "carve\n",
      "[-1, -1, -1, -1, -1]\n"
     ]
    }
   ],
   "source": [
    "game = Wordle()\n",
    "while True:    \n",
    "    print(game.getWord())\n",
    "    print(game.grid[game.gridIndex])\n",
    "    game.guessWord(input())"
   ]
  },
  {
   "cell_type": "code",
   "execution_count": null,
   "id": "377342ea",
   "metadata": {},
   "outputs": [],
   "source": [
    "\n"
   ]
  }
 ],
 "metadata": {
  "kernelspec": {
   "display_name": "Python 3 (ipykernel)",
   "language": "python",
   "name": "python3"
  },
  "language_info": {
   "codemirror_mode": {
    "name": "ipython",
    "version": 3
   },
   "file_extension": ".py",
   "mimetype": "text/x-python",
   "name": "python",
   "nbconvert_exporter": "python",
   "pygments_lexer": "ipython3",
   "version": "3.10.9"
  }
 },
 "nbformat": 4,
 "nbformat_minor": 5
}
